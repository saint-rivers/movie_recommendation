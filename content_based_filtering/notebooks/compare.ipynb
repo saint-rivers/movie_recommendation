{
 "cells": [
  {
   "cell_type": "code",
   "execution_count": 1,
   "metadata": {},
   "outputs": [],
   "source": [
    "import pandas as pd\n",
    "import sqlite3\n",
    "conn = sqlite3.connect(\"../data/db.sqlite\")\n",
    "\n",
    "def find_movie_id(title: str):\n",
    "    query = f'SELECT * from movie where original_title like \"%{title}%\"'\n",
    "    search = pd.read_sql_query(query, conn)\n",
    "    conn.close()"
   ]
  },
  {
   "cell_type": "code",
   "execution_count": 2,
   "metadata": {},
   "outputs": [],
   "source": [
    "import pandas as pd\n",
    "import numpy as np\n",
    "from sklearn.feature_extraction.text import TfidfVectorizer\n",
    "from sklearn.metrics.pairwise import linear_kernel\n"
   ]
  },
  {
   "cell_type": "code",
   "execution_count": 5,
   "metadata": {},
   "outputs": [],
   "source": [
    "df = pd.read_csv(\"../data/movies_processed_cleaned.csv\", low_memory=False)\n",
    "cosine_sim = np.load(\"../nparray/overview_sim_matrix.npy\")\n",
    "\n",
    "# get indices of movie title\n",
    "indices = pd.Series(df.index, index=df['id']).drop_duplicates()"
   ]
  },
  {
   "cell_type": "code",
   "execution_count": 6,
   "metadata": {},
   "outputs": [],
   "source": [
    "def  get_recommendations(id, cosine_sim=cosine_sim):\n",
    "    idx = indices[id]\n",
    "    sim_scores = list(enumerate(cosine_sim[idx]))\n",
    "    sim_scores = sorted(sim_scores, key=lambda x: x[1] , reverse=True)\n",
    "    sim_scores = sim_scores[1:11]\n",
    "    movie_indices = [i[0] for i in sim_scores]\n",
    "    return df[['title', 'id', 'runtime']].iloc[movie_indices]"
   ]
  },
  {
   "cell_type": "code",
   "execution_count": 8,
   "metadata": {},
   "outputs": [
    {
     "name": "stdout",
     "output_type": "stream",
     "text": [
      "overview cosine\n",
      "                                                   title      id  runtime\n",
      "13826                             the return of the king    1361     98.0\n",
      "6137       the lord of the rings: the return of the king     122    201.0\n",
      "18668                                               wolf  191104    122.0\n",
      "4311   the lord of the rings: the fellowship of the ring     120    178.0\n",
      "8320                                       underclassman   19803     95.0\n",
      "5122               the lord of the rings: the two towers     121    179.0\n",
      "24700                                            trapped   29260     78.0\n",
      "20773                               daughter of shanghai   88209     62.0\n",
      "30649                                              bling  385722     81.0\n",
      "29027                           to the ends of the earth   39943    109.0\n",
      "feature cosine\n",
      "                                 title      id  runtime\n",
      "19945                        l'inferno   70512     68.0\n",
      "26062               under the mountain   32932     91.0\n",
      "1022   one flew over the cuckoo's nest     510    133.0\n",
      "5305                     into the west   33221     97.0\n",
      "27740              freddie as f.r.o.7.  110395     91.0\n",
      "1789             all dogs go to heaven   11497     89.0\n",
      "26218                            nymph   50086     91.0\n",
      "31958                   the barbarians   27551     87.0\n",
      "3171                          gandahar   22500     83.0\n",
      "16686        it's such a beautiful day  147538     62.0\n"
     ]
    }
   ],
   "source": [
    "# print(find_movie_id('lord'))\n",
    "print(\"overview cosine\")\n",
    "print(get_recommendations(123, cosine_sim=cosine_sim))\n",
    "\n",
    "\n",
    "print(\"feature cosine\")\n",
    "cos_sim_features = np.load(\"../nparray/feature_sim_matrix.npy\")\n",
    "# df = df.reset_index()\n",
    "# indices = pd.Series(df.index, index=df['id'])\n",
    "print(get_recommendations(123, cosine_sim=cos_sim_features))\n"
   ]
  }
 ],
 "metadata": {
  "kernelspec": {
   "display_name": "Python 3",
   "language": "python",
   "name": "python3"
  },
  "language_info": {
   "codemirror_mode": {
    "name": "ipython",
    "version": 3
   },
   "file_extension": ".py",
   "mimetype": "text/x-python",
   "name": "python",
   "nbconvert_exporter": "python",
   "pygments_lexer": "ipython3",
   "version": "3.11.10"
  }
 },
 "nbformat": 4,
 "nbformat_minor": 2
}
