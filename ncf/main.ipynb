{
 "cells": [
  {
   "cell_type": "code",
   "execution_count": 10,
   "metadata": {},
   "outputs": [],
   "source": [
    "import pandas as pd\n",
    "import numpy as np\n",
    "import tensorflow as tf"
   ]
  },
  {
   "cell_type": "code",
   "execution_count": 2,
   "metadata": {},
   "outputs": [
    {
     "name": "stderr",
     "output_type": "stream",
     "text": [
      "2024-11-23 20:10:04.569691: I tensorflow/core/common_runtime/gpu/gpu_device.cc:1928] Created device /job:localhost/replica:0/task:0/device:GPU:0 with 1184 MB memory:  -> device: 0, name: NVIDIA GeForce RTX 3060, pci bus id: 0000:01:00.0, compute capability: 8.6\n"
     ]
    }
   ],
   "source": [
    "model = tf.keras.models.load_model(\"model/ncf_rec.keras\")"
   ]
  },
  {
   "cell_type": "code",
   "execution_count": 4,
   "metadata": {},
   "outputs": [],
   "source": [
    "df = pd.read_csv(f\"data/item_ratings.csv\")#.iloc[:1000,:]"
   ]
  },
  {
   "cell_type": "code",
   "execution_count": 6,
   "metadata": {},
   "outputs": [],
   "source": [
    "user_id = 14524\n",
    "\n",
    "seen_movies = df[df['userId'] == user_id]\n",
    "movies_unneeded = df[df['movieId'].isin(seen_movies['movieId'])]\n",
    "df_all = df.merge(movies_unneeded, on=['userId', 'movieId'], how=\"left\", indicator=True)\n",
    "unseen = df[df_all['_merge'] == 'left_only']\n",
    "unseen_movie_ids = unseen['movieId'].unique()"
   ]
  },
  {
   "cell_type": "code",
   "execution_count": 8,
   "metadata": {},
   "outputs": [
    {
     "data": {
      "text/plain": [
       "5937"
      ]
     },
     "execution_count": 8,
     "metadata": {},
     "output_type": "execute_result"
    }
   ],
   "source": [
    "unseen_movie_ids.shape[0]"
   ]
  },
  {
   "cell_type": "code",
   "execution_count": 23,
   "metadata": {},
   "outputs": [
    {
     "data": {
      "text/plain": [
       "array([[ 14524,    862],\n",
       "       [ 14524,   8844],\n",
       "       [ 14524,    949],\n",
       "       ...,\n",
       "       [ 14524,  45527],\n",
       "       [ 14524,  49280],\n",
       "       [ 14524, 111109]])"
      ]
     },
     "execution_count": 23,
     "metadata": {},
     "output_type": "execute_result"
    }
   ],
   "source": [
    "p = np.full((unseen_movie_ids.shape[0],2), user_id)\n",
    "p[:,1] = unseen_movie_ids\n",
    "p"
   ]
  },
  {
   "cell_type": "code",
   "execution_count": 25,
   "metadata": {},
   "outputs": [
    {
     "name": "stdout",
     "output_type": "stream",
     "text": [
      "\u001b[1m  1/186\u001b[0m \u001b[37m━━━━━━━━━━━━━━━━━━━━\u001b[0m \u001b[1m37s\u001b[0m 204ms/step"
     ]
    },
    {
     "name": "stderr",
     "output_type": "stream",
     "text": [
      "/home/dayan/projects/movie_recommendation/.conda/lib/python3.11/site-packages/keras/src/models/functional.py:225: UserWarning: The structure of `inputs` doesn't match the expected structure: ['input_layer', 'input_layer_1']. Received: the structure of inputs=('*', '*')\n",
      "  warnings.warn(\n",
      "WARNING: All log messages before absl::InitializeLog() is called are written to STDERR\n",
      "I0000 00:00:1732360618.735599  300021 service.cc:145] XLA service 0x737590004fa0 initialized for platform CUDA (this does not guarantee that XLA will be used). Devices:\n",
      "I0000 00:00:1732360618.735627  300021 service.cc:153]   StreamExecutor device (0): NVIDIA GeForce RTX 3060, Compute Capability 8.6\n",
      "2024-11-23 20:16:58.740803: I tensorflow/compiler/mlir/tensorflow/utils/dump_mlir_util.cc:268] disabling MLIR crash reproducer, set env var `MLIR_CRASH_REPRODUCER_DIRECTORY` to enable.\n",
      "2024-11-23 20:16:58.756451: I external/local_xla/xla/stream_executor/cuda/cuda_dnn.cc:465] Loaded cuDNN version 8902\n",
      "I0000 00:00:1732360618.893172  300021 device_compiler.h:188] Compiled cluster using XLA!  This line is logged at most once for the lifetime of the process.\n"
     ]
    },
    {
     "name": "stdout",
     "output_type": "stream",
     "text": [
      "\u001b[1m186/186\u001b[0m \u001b[32m━━━━━━━━━━━━━━━━━━━━\u001b[0m\u001b[37m\u001b[0m \u001b[1m0s\u001b[0m 2ms/step\n"
     ]
    }
   ],
   "source": [
    "test_data = [p[:, 0], p[:, 1]]\n",
    "out = model.predict(test_data)"
   ]
  },
  {
   "cell_type": "code",
   "execution_count": null,
   "metadata": {},
   "outputs": [
    {
     "data": {
      "text/plain": [
       "(array([0.5009177 , 0.5276234 , 0.61134744, 0.6556127 , 0.8569486 ,\n",
       "        0.9862061 , 0.9939889 , 0.99521565, 0.99991035, 0.9999838 ,\n",
       "        0.99999356, 0.99999964, 1.        ], dtype=float32),\n",
       " array([   5,    1,    1,    1,    1,    1,    1,    1,    1,    1,    1,\n",
       "           1, 5921]))"
      ]
     },
     "execution_count": 31,
     "metadata": {},
     "output_type": "execute_result"
    }
   ],
   "source": [
    "np.unique(out, return_counts=True)"
   ]
  },
  {
   "cell_type": "code",
   "execution_count": 33,
   "metadata": {},
   "outputs": [
    {
     "data": {
      "text/plain": [
       "array([5936, 1984, 1975, 1976, 1977, 1978, 1979, 1980, 1981, 1982])"
      ]
     },
     "execution_count": 33,
     "metadata": {},
     "output_type": "execute_result"
    }
   ],
   "source": [
    "top_n = np.argsort(out.flatten())[-10:][::-1]\n",
    "top_n"
   ]
  },
  {
   "cell_type": "code",
   "execution_count": 46,
   "metadata": {},
   "outputs": [
    {
     "data": {
      "text/html": [
       "<div>\n",
       "<style scoped>\n",
       "    .dataframe tbody tr th:only-of-type {\n",
       "        vertical-align: middle;\n",
       "    }\n",
       "\n",
       "    .dataframe tbody tr th {\n",
       "        vertical-align: top;\n",
       "    }\n",
       "\n",
       "    .dataframe thead th {\n",
       "        text-align: right;\n",
       "    }\n",
       "</style>\n",
       "<table border=\"1\" class=\"dataframe\">\n",
       "  <thead>\n",
       "    <tr style=\"text-align: right;\">\n",
       "      <th></th>\n",
       "      <th>Unnamed: 0</th>\n",
       "      <th>adult</th>\n",
       "      <th>genres</th>\n",
       "      <th>id</th>\n",
       "      <th>imdb_id</th>\n",
       "      <th>original_language</th>\n",
       "      <th>original_title</th>\n",
       "      <th>overview</th>\n",
       "      <th>popularity</th>\n",
       "      <th>production_companies</th>\n",
       "      <th>release_date</th>\n",
       "      <th>revenue</th>\n",
       "      <th>runtime</th>\n",
       "      <th>tagline</th>\n",
       "      <th>title</th>\n",
       "    </tr>\n",
       "  </thead>\n",
       "  <tbody>\n",
       "    <tr>\n",
       "      <th>1846</th>\n",
       "      <td>2078</td>\n",
       "      <td>False</td>\n",
       "      <td>thriller</td>\n",
       "      <td>1978</td>\n",
       "      <td>tt0042994</td>\n",
       "      <td>en</td>\n",
       "      <td>Stage Fright</td>\n",
       "      <td>A struggling actress tries to help a friend pr...</td>\n",
       "      <td>4.329397</td>\n",
       "      <td>warner bros</td>\n",
       "      <td>1950-02-23</td>\n",
       "      <td>0.0</td>\n",
       "      <td>110.0</td>\n",
       "      <td>Love held its breath as sudden terror held the...</td>\n",
       "      <td>stage fright</td>\n",
       "    </tr>\n",
       "    <tr>\n",
       "      <th>6072</th>\n",
       "      <td>6926</td>\n",
       "      <td>False</td>\n",
       "      <td>drama,romance</td>\n",
       "      <td>1976</td>\n",
       "      <td>tt0030287</td>\n",
       "      <td>en</td>\n",
       "      <td>Jezebel</td>\n",
       "      <td>In 1850s Louisiana, the willfulness of a tempe...</td>\n",
       "      <td>11.277226</td>\n",
       "      <td>warner bros</td>\n",
       "      <td>1938-03-19</td>\n",
       "      <td>0.0</td>\n",
       "      <td>103.0</td>\n",
       "      <td>A Fearless Feminine Creature with a heart full...</td>\n",
       "      <td>jezebel</td>\n",
       "    </tr>\n",
       "    <tr>\n",
       "      <th>9785</th>\n",
       "      <td>11329</td>\n",
       "      <td>False</td>\n",
       "      <td>horror,thriller</td>\n",
       "      <td>1975</td>\n",
       "      <td>tt0433386</td>\n",
       "      <td>en</td>\n",
       "      <td>The Grudge 2</td>\n",
       "      <td>In Tokyo, a young woman is exposed to the same...</td>\n",
       "      <td>6.768804</td>\n",
       "      <td>columbia pictures corporation,ghost house pict...</td>\n",
       "      <td>2006-10-13</td>\n",
       "      <td>39143839.0</td>\n",
       "      <td>102.0</td>\n",
       "      <td>What Was Once Trapped, Will Now Be Unleashed</td>\n",
       "      <td>the grudge 2</td>\n",
       "    </tr>\n",
       "    <tr>\n",
       "      <th>10255</th>\n",
       "      <td>11864</td>\n",
       "      <td>False</td>\n",
       "      <td>adventure,fantasy,action,thriller</td>\n",
       "      <td>1979</td>\n",
       "      <td>tt0486576</td>\n",
       "      <td>en</td>\n",
       "      <td>4: Rise of the Silver Surfer</td>\n",
       "      <td>The Fantastic Four return to the big screen as...</td>\n",
       "      <td>12.924254</td>\n",
       "      <td>ingenious film partners,twentieth century fox ...</td>\n",
       "      <td>2007-06-13</td>\n",
       "      <td>289047763.0</td>\n",
       "      <td>92.0</td>\n",
       "      <td>Discover the secret of the Surfer.</td>\n",
       "      <td>fantastic 4: rise of the silver surfer</td>\n",
       "    </tr>\n",
       "    <tr>\n",
       "      <th>11172</th>\n",
       "      <td>12972</td>\n",
       "      <td>False</td>\n",
       "      <td>drama,science fiction</td>\n",
       "      <td>1984</td>\n",
       "      <td>tt0048918</td>\n",
       "      <td>en</td>\n",
       "      <td>1984</td>\n",
       "      <td>In a totalitarian future society, a man whose ...</td>\n",
       "      <td>6.113449</td>\n",
       "      <td>columbia pictures corporation,holiday film pro...</td>\n",
       "      <td>1956-03-06</td>\n",
       "      <td>0.0</td>\n",
       "      <td>90.0</td>\n",
       "      <td>Big Brother is Watching.</td>\n",
       "      <td>1984</td>\n",
       "    </tr>\n",
       "    <tr>\n",
       "      <th>11491</th>\n",
       "      <td>13367</td>\n",
       "      <td>False</td>\n",
       "      <td>mystery,horror,thriller</td>\n",
       "      <td>1977</td>\n",
       "      <td>tt1053859</td>\n",
       "      <td>en</td>\n",
       "      <td>The Grudge 3</td>\n",
       "      <td>Jake, the sole survivor of The Grudge 2 massac...</td>\n",
       "      <td>10.510468</td>\n",
       "      <td>ghost house pictures,ozla pictures,stage 6 films</td>\n",
       "      <td>2009-05-12</td>\n",
       "      <td>38610009.0</td>\n",
       "      <td>90.0</td>\n",
       "      <td>You can't escape the curse.</td>\n",
       "      <td>the grudge 3</td>\n",
       "    </tr>\n",
       "  </tbody>\n",
       "</table>\n",
       "</div>"
      ],
      "text/plain": [
       "       Unnamed: 0  adult                             genres    id    imdb_id  \\\n",
       "1846         2078  False                           thriller  1978  tt0042994   \n",
       "6072         6926  False                      drama,romance  1976  tt0030287   \n",
       "9785        11329  False                    horror,thriller  1975  tt0433386   \n",
       "10255       11864  False  adventure,fantasy,action,thriller  1979  tt0486576   \n",
       "11172       12972  False              drama,science fiction  1984  tt0048918   \n",
       "11491       13367  False            mystery,horror,thriller  1977  tt1053859   \n",
       "\n",
       "      original_language                original_title  \\\n",
       "1846                 en                  Stage Fright   \n",
       "6072                 en                       Jezebel   \n",
       "9785                 en                  The Grudge 2   \n",
       "10255                en  4: Rise of the Silver Surfer   \n",
       "11172                en                          1984   \n",
       "11491                en                  The Grudge 3   \n",
       "\n",
       "                                                overview  popularity  \\\n",
       "1846   A struggling actress tries to help a friend pr...    4.329397   \n",
       "6072   In 1850s Louisiana, the willfulness of a tempe...   11.277226   \n",
       "9785   In Tokyo, a young woman is exposed to the same...    6.768804   \n",
       "10255  The Fantastic Four return to the big screen as...   12.924254   \n",
       "11172  In a totalitarian future society, a man whose ...    6.113449   \n",
       "11491  Jake, the sole survivor of The Grudge 2 massac...   10.510468   \n",
       "\n",
       "                                    production_companies release_date  \\\n",
       "1846                                         warner bros   1950-02-23   \n",
       "6072                                         warner bros   1938-03-19   \n",
       "9785   columbia pictures corporation,ghost house pict...   2006-10-13   \n",
       "10255  ingenious film partners,twentieth century fox ...   2007-06-13   \n",
       "11172  columbia pictures corporation,holiday film pro...   1956-03-06   \n",
       "11491   ghost house pictures,ozla pictures,stage 6 films   2009-05-12   \n",
       "\n",
       "           revenue  runtime  \\\n",
       "1846           0.0    110.0   \n",
       "6072           0.0    103.0   \n",
       "9785    39143839.0    102.0   \n",
       "10255  289047763.0     92.0   \n",
       "11172          0.0     90.0   \n",
       "11491   38610009.0     90.0   \n",
       "\n",
       "                                                 tagline  \\\n",
       "1846   Love held its breath as sudden terror held the...   \n",
       "6072   A Fearless Feminine Creature with a heart full...   \n",
       "9785        What Was Once Trapped, Will Now Be Unleashed   \n",
       "10255                 Discover the secret of the Surfer.   \n",
       "11172                           Big Brother is Watching.   \n",
       "11491                        You can't escape the curse.   \n",
       "\n",
       "                                        title  \n",
       "1846                             stage fright  \n",
       "6072                                  jezebel  \n",
       "9785                             the grudge 2  \n",
       "10255  fantastic 4: rise of the silver surfer  \n",
       "11172                                    1984  \n",
       "11491                            the grudge 3  "
      ]
     },
     "execution_count": 46,
     "metadata": {},
     "output_type": "execute_result"
    }
   ],
   "source": [
    "movies = pd.read_csv('data/movies_processed_cleaned.csv')\n",
    "movies[movies['id'].isin(top_n)]"
   ]
  }
 ],
 "metadata": {
  "kernelspec": {
   "display_name": "Python 3",
   "language": "python",
   "name": "python3"
  },
  "language_info": {
   "codemirror_mode": {
    "name": "ipython",
    "version": 3
   },
   "file_extension": ".py",
   "mimetype": "text/x-python",
   "name": "python",
   "nbconvert_exporter": "python",
   "pygments_lexer": "ipython3",
   "version": "3.11.10"
  }
 },
 "nbformat": 4,
 "nbformat_minor": 2
}
