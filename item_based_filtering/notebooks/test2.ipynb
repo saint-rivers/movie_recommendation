{
 "cells": [
  {
   "cell_type": "code",
   "execution_count": 1,
   "metadata": {},
   "outputs": [],
   "source": [
    "import joblib\n",
    "from surprise import KNNWithMeans\n",
    "from surprise.model_selection import cross_validate\n",
    "import pandas as pd\n",
    "from surprise import Dataset\n",
    "from surprise import Reader\n",
    "import joblib\n",
    "from sklearn.metrics import f1_score, recall_score, accuracy_score\n",
    "from surprise.model_selection import train_test_split, KFold"
   ]
  },
  {
   "cell_type": "code",
   "execution_count": 2,
   "metadata": {},
   "outputs": [],
   "source": [
    "df = pd.read_csv(f\"../data/item_ratings.csv\")\n",
    "\n",
    "ratings_dict = {\n",
    "    \"item\": df['movieId'],\n",
    "    \"user\": df['userId'],\n",
    "    \"rating\": df['rating'],\n",
    "}\n",
    "\n",
    "df = pd.DataFrame(ratings_dict)\n",
    "reader = Reader(rating_scale=(0, 5))\n",
    "data = Dataset.load_from_df(df[[\"user\", \"item\", \"rating\"]], reader)"
   ]
  },
  {
   "cell_type": "code",
   "execution_count": 20,
   "metadata": {},
   "outputs": [
    {
     "name": "stdout",
     "output_type": "stream",
     "text": [
      "Estimating biases using als...\n",
      "Computing the pearson_baseline similarity matrix...\n",
      "Done computing similarity matrix.\n",
      "Estimating biases using als...\n",
      "Computing the pearson_baseline similarity matrix...\n",
      "Done computing similarity matrix.\n",
      "Estimating biases using als...\n",
      "Computing the pearson_baseline similarity matrix...\n",
      "Done computing similarity matrix.\n",
      "Estimating biases using als...\n",
      "Computing the pearson_baseline similarity matrix...\n",
      "Done computing similarity matrix.\n",
      "Estimating biases using als...\n",
      "Computing the pearson_baseline similarity matrix...\n",
      "Done computing similarity matrix.\n"
     ]
    }
   ],
   "source": [
    "# trainset, testset = train_test_split(data, test_size=0.25)\n",
    "\n",
    "sim_options = {\n",
    "    \"name\": \"pearson_baseline\",\n",
    "    \"user_based\": False,  # Compute similarities between items\n",
    "}\n",
    "\n",
    "kf = KFold(n_splits=5)\n",
    "model = KNNWithMeans(sim_options=sim_options)\n",
    "# cv = cross_validate(model, data, measures = ['RMSE', 'MAE'], cv = 5, verbose=True)\n",
    "metrics = custom_metrics_cv(model, data)"
   ]
  },
  {
   "cell_type": "code",
   "execution_count": 21,
   "metadata": {},
   "outputs": [
    {
     "name": "stdout",
     "output_type": "stream",
     "text": [
      "Cross-validated Accuracy: 0.83\n",
      "Cross-validated Recall: 0.88\n",
      "Cross-validated F1 Score: 0.90\n"
     ]
    }
   ],
   "source": [
    "print(f\"Cross-validated Accuracy: {metrics['accuracy']:.2f}\")\n",
    "print(f\"Cross-validated Recall: {metrics['recall']:.2f}\")\n",
    "print(f\"Cross-validated F1 Score: {metrics['f1_score']:.2f}\")"
   ]
  }
 ],
 "metadata": {
  "kernelspec": {
   "display_name": "Python 3",
   "language": "python",
   "name": "python3"
  },
  "language_info": {
   "codemirror_mode": {
    "name": "ipython",
    "version": 3
   },
   "file_extension": ".py",
   "mimetype": "text/x-python",
   "name": "python",
   "nbconvert_exporter": "python",
   "pygments_lexer": "ipython3",
   "version": "3.11.10"
  }
 },
 "nbformat": 4,
 "nbformat_minor": 2
}
