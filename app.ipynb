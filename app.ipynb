{
 "cells": [
  {
   "cell_type": "code",
   "execution_count": null,
   "metadata": {},
   "outputs": [],
   "source": [
    "import joblib\n",
    "import pandas as pd\n",
    "import numpy as np\n",
    "\n",
    "class IRec():\n",
    "    def __init__(self):\n",
    "        pass\n",
    "    def get_recommendations(self, id: int):\n",
    "        pass\n",
    "\n",
    "class ItemBasedRecommender(IRec):\n",
    "    model = None\n",
    "    def __init__(self):\n",
    "        self.model = joblib.load('item_based_filtering/models/item_based_collab.pkl')\n",
    "\n",
    "    def get_recommendations(self, id):\n",
    "        if self.model == None: \n",
    "            print('no model')\n",
    "        inner_id = self.model.trainset.to_inner_iid(id)\n",
    "        neighbor_ids = self.model.get_neighbors(inner_id, k =10)\n",
    "        ids = [self.model.trainset.to_raw_iid(x) for x in neighbor_ids]\n",
    "        return ids\n",
    "       \n",
    "class ContentBasedRecommender(IRec):\n",
    "    def __init__(self):\n",
    "        self.cosine_sim = np.load(\"content_based_filtering/nparray/feature_sim_matrix.npy\")\n",
    "        df = pd.read_csv(\"data/movies_processed_cleaned.csv\")\n",
    "        self.indices = pd.Series(df.index, index=df['id']).drop_duplicates()\n",
    "\n",
    "    def get_recommendations(self, id: int):\n",
    "        idx = self.indices[id]\n",
    "        sim_scores = list(enumerate(self.cosine_sim[idx]))\n",
    "        sim_scores = sorted(sim_scores, key=lambda x: x[1] , reverse=True)\n",
    "        sim_scores = sim_scores[1:11]\n",
    "        movie_indices = [i[0] for i in sim_scores]\n",
    "        return movie_indices\n",
    "        "
   ]
  },
  {
   "cell_type": "code",
   "execution_count": 4,
   "metadata": {},
   "outputs": [],
   "source": [
    "item_model = ItemBasedRecommender()\n",
    "content_model = ContentBasedRecommender()"
   ]
  },
  {
   "cell_type": "code",
   "execution_count": 5,
   "metadata": {},
   "outputs": [
    {
     "data": {
      "text/plain": [
       "[860, 80, 82, 1683, 1900, 4641, 1734, 896, 265, 615]"
      ]
     },
     "execution_count": 5,
     "metadata": {},
     "output_type": "execute_result"
    }
   ],
   "source": [
    "item_model.get_recommendations(id=862)"
   ]
  },
  {
   "cell_type": "code",
   "execution_count": 6,
   "metadata": {},
   "outputs": [
    {
     "data": {
      "text/plain": [
       "[2669, 13057, 20676, 17852, 11765, 14226, 15892, 15899, 15976, 18626]"
      ]
     },
     "execution_count": 6,
     "metadata": {},
     "output_type": "execute_result"
    }
   ],
   "source": [
    "content_model.get_recommendations(id=862)"
   ]
  }
 ],
 "metadata": {
  "kernelspec": {
   "display_name": "Python 3",
   "language": "python",
   "name": "python3"
  },
  "language_info": {
   "codemirror_mode": {
    "name": "ipython",
    "version": 3
   },
   "file_extension": ".py",
   "mimetype": "text/x-python",
   "name": "python",
   "nbconvert_exporter": "python",
   "pygments_lexer": "ipython3",
   "version": "3.11.10"
  }
 },
 "nbformat": 4,
 "nbformat_minor": 2
}
